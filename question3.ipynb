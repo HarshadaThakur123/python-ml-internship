{
 "cells": [
  {
   "cell_type": "code",
   "execution_count": 2,
   "id": "9edac6e7",
   "metadata": {},
   "outputs": [],
   "source": [
    "import numpy as np"
   ]
  },
  {
   "cell_type": "code",
   "execution_count": 3,
   "id": "5936d16a",
   "metadata": {},
   "outputs": [],
   "source": [
    "def torus_chebyshev_sum(arr1d, R, C, k):\n",
    "    arr = arr1d.reshape(R, C)\n",
    "    # Determine accumulator dtype (avoid overflow for int)\n",
    "    acc_dtype = np.result_type(arr.dtype, np.int64)\n",
    "    out = np.zeros((R, C), dtype=acc_dtype)\n",
    "    \n",
    "    # Add contributions from all shifts within Chebyshev radius\n",
    "    for dr in range(-k, k+1):\n",
    "        for dc in range(-k, k+1):\n",
    "            out += np.roll(np.roll(arr, dr, axis=0), dc, axis=1)\n",
    "    \n",
    "    # Cast back if safe\n",
    "    if np.issubdtype(arr.dtype, np.integer):\n",
    "        return out.astype(np.int64 if arr.dtype.itemsize < 8 else arr.dtype)\n",
    "    else:\n",
    "        return out.astype(arr.dtype)\n"
   ]
  },
  {
   "cell_type": "code",
   "execution_count": 4,
   "id": "5d01eb58",
   "metadata": {},
   "outputs": [
    {
     "name": "stdout",
     "output_type": "stream",
     "text": [
      "Result:\n",
      " [[60 54 63 72 66]\n",
      " [60 54 63 72 66]\n",
      " [60 54 63 72 66]]\n",
      "res[0,0] = 60\n",
      "Manual check: 60\n"
     ]
    }
   ],
   "source": [
    "R, C, k = 3, 5, 1\n",
    "arr = np.arange(R*C)\n",
    "\n",
    "res = torus_chebyshev_sum(arr, R, C, k)\n",
    "print(\"Result:\\n\", res)\n",
    "\n",
    "# Check value at (0,0)\n",
    "print(\"res[0,0] =\", res[0,0])\n",
    "\n",
    "# Manual 3×3 neighborhood sum at (0,0)\n",
    "arr2d = arr.reshape(R, C)\n",
    "nbrs = [arr2d[(i%R), (j%C)]\n",
    "        for i in range(-1, 2)\n",
    "        for j in range(-1, 2)]\n",
    "print(\"Manual check:\", sum(nbrs))\n"
   ]
  },
  {
   "cell_type": "code",
   "execution_count": null,
   "id": "d5c5f9de",
   "metadata": {},
   "outputs": [],
   "source": []
  }
 ],
 "metadata": {
  "kernelspec": {
   "display_name": "Python 3",
   "language": "python",
   "name": "python3"
  },
  "language_info": {
   "codemirror_mode": {
    "name": "ipython",
    "version": 3
   },
   "file_extension": ".py",
   "mimetype": "text/x-python",
   "name": "python",
   "nbconvert_exporter": "python",
   "pygments_lexer": "ipython3",
   "version": "3.13.2"
  }
 },
 "nbformat": 4,
 "nbformat_minor": 5
}
